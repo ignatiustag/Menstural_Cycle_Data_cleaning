{
 "cells": [
  {
   "cell_type": "markdown",
   "metadata": {},
   "source": [
    "# Data Cleaning"
   ]
  },
  {
   "cell_type": "code",
   "execution_count": 54,
   "metadata": {},
   "outputs": [
    {
     "name": "stdout",
     "output_type": "stream",
     "text": [
      "     ClientID  CycleNumber  Group  CycleWithPeakorNot  ReproductiveCategory  \\\n",
      "0     nfp8122            1      0                   1                     0   \n",
      "1     nfp8122            2      0                   1                     0   \n",
      "2     nfp8122            3      0                   1                     0   \n",
      "3     nfp8122            4      0                   1                     0   \n",
      "4     nfp8122            5      0                   1                     0   \n",
      "...       ...          ...    ...                 ...                   ...   \n",
      "1660  nfp8334            7      1                   1                     0   \n",
      "1661  nfp8334            8      1                   1                     0   \n",
      "1662  nfp8334            9      1                   1                     0   \n",
      "1663  nfp8334           10      1                   1                     1   \n",
      "1664  nfp8334           11      1                   1                     2   \n",
      "\n",
      "      LengthofCycle MeanCycleLength EstimatedDayofOvulation  \\\n",
      "0                29           27.33                      17   \n",
      "1                27                                      15   \n",
      "2                29                                      15   \n",
      "3                27                                      15   \n",
      "4                28                                      16   \n",
      "...             ...             ...                     ...   \n",
      "1660             29                                      19   \n",
      "1661             28                                      17   \n",
      "1662             28                                      16   \n",
      "1663             40                                      27   \n",
      "1664             24                                           \n",
      "\n",
      "     LengthofLutealPhase FirstDayofHigh  ... Method Prevmethod Methoddate  \\\n",
      "0                     12             12  ...      9                         \n",
      "1                     12             13  ...                                \n",
      "2                     14                 ...                                \n",
      "3                     12             13  ...                                \n",
      "4                     12             12  ...                                \n",
      "...                  ...            ...  ...    ...        ...        ...   \n",
      "1660                  10             13  ...                                \n",
      "1661                  11             12  ...                                \n",
      "1662                  12             11  ...                                \n",
      "1663                  13             13  ...                                \n",
      "1664                                     ...                                \n",
      "\n",
      "     Whychart Nextpreg NextpregM Spousesame SpousesameM Timeattemptpreg  \\\n",
      "0           2        7         7          1           1               0   \n",
      "1                                                                         \n",
      "2                                                                         \n",
      "3                                                                         \n",
      "4                                                                         \n",
      "...       ...      ...       ...        ...         ...             ...   \n",
      "1660                                                                      \n",
      "1661                                                                      \n",
      "1662                                                                      \n",
      "1663                                                                      \n",
      "1664                                                                      \n",
      "\n",
      "                  BMI  \n",
      "0     21.254724111867  \n",
      "1                      \n",
      "2                      \n",
      "3                      \n",
      "4                      \n",
      "...               ...  \n",
      "1660                   \n",
      "1661                   \n",
      "1662                   \n",
      "1663                   \n",
      "1664                   \n",
      "\n",
      "[1665 rows x 80 columns]\n"
     ]
    }
   ],
   "source": [
    "# import packages\n",
    "import pandas as pd\n",
    "import numpy as np\n",
    "\n",
    "# load the dataset\n",
    "df = pd.read_csv('Menstural_Cycle_Data.csv')\n",
    "print(df)\n"
   ]
  },
  {
   "cell_type": "code",
   "execution_count": 24,
   "metadata": {},
   "outputs": [
    {
     "name": "stdout",
     "output_type": "stream",
     "text": [
      "  ClientID  CycleNumber  Group  CycleWithPeakorNot  ReproductiveCategory  \\\n",
      "0  nfp8122            1      0                   1                     0   \n",
      "1  nfp8122            2      0                   1                     0   \n",
      "2  nfp8122            3      0                   1                     0   \n",
      "3  nfp8122            4      0                   1                     0   \n",
      "4  nfp8122            5      0                   1                     0   \n",
      "\n",
      "   LengthofCycle MeanCycleLength EstimatedDayofOvulation LengthofLutealPhase  \\\n",
      "0             29           27.33                      17                  12   \n",
      "1             27             NaN                      15                  12   \n",
      "2             29             NaN                      15                  14   \n",
      "3             27             NaN                      15                  12   \n",
      "4             28             NaN                      16                  12   \n",
      "\n",
      "  FirstDayofHigh  ... Method Prevmethod Methoddate Whychart Nextpreg  \\\n",
      "0             12  ...      9        NaN        NaN        2        7   \n",
      "1             13  ...    NaN        NaN        NaN      NaN      NaN   \n",
      "2            NaN  ...    NaN        NaN        NaN      NaN      NaN   \n",
      "3             13  ...    NaN        NaN        NaN      NaN      NaN   \n",
      "4             12  ...    NaN        NaN        NaN      NaN      NaN   \n",
      "\n",
      "  NextpregM Spousesame SpousesameM Timeattemptpreg              BMI  \n",
      "0         7          1           1               0  21.254724111867  \n",
      "1       NaN        NaN         NaN             NaN              NaN  \n",
      "2       NaN        NaN         NaN             NaN              NaN  \n",
      "3       NaN        NaN         NaN             NaN              NaN  \n",
      "4       NaN        NaN         NaN             NaN              NaN  \n",
      "\n",
      "[5 rows x 80 columns]\n"
     ]
    }
   ],
   "source": [
    "# check the first few rows of the dataset\n",
    "print(df.head())"
   ]
  },
  {
   "cell_type": "code",
   "execution_count": 25,
   "metadata": {},
   "outputs": [
    {
     "name": "stdout",
     "output_type": "stream",
     "text": [
      "<class 'pandas.core.frame.DataFrame'>\n",
      "RangeIndex: 1665 entries, 0 to 1664\n",
      "Data columns (total 80 columns):\n",
      " #   Column                      Non-Null Count  Dtype \n",
      "---  ------                      --------------  ----- \n",
      " 0   ClientID                    1665 non-null   object\n",
      " 1   CycleNumber                 1665 non-null   int64 \n",
      " 2   Group                       1665 non-null   int64 \n",
      " 3   CycleWithPeakorNot          1665 non-null   int64 \n",
      " 4   ReproductiveCategory        1665 non-null   int64 \n",
      " 5   LengthofCycle               1665 non-null   int64 \n",
      " 6   MeanCycleLength             141 non-null    object\n",
      " 7   EstimatedDayofOvulation     1515 non-null   object\n",
      " 8   LengthofLutealPhase         1514 non-null   object\n",
      " 9   FirstDayofHigh              1407 non-null   object\n",
      " 10  TotalNumberofHighDays       1653 non-null   object\n",
      " 11  TotalHighPostPeak           1662 non-null   object\n",
      " 12  TotalNumberofPeakDays       1649 non-null   object\n",
      " 13  TotalDaysofFertility        1634 non-null   object\n",
      " 14  TotalFertilityFormula       1663 non-null   object\n",
      " 15  LengthofMenses              1661 non-null   object\n",
      " 16  MeanMensesLength            141 non-null    object\n",
      " 17  MensesScoreDayOne           1661 non-null   object\n",
      " 18  MensesScoreDayTwo           1661 non-null   object\n",
      " 19  MensesScoreDayThree         1640 non-null   object\n",
      " 20  MensesScoreDayFour          1578 non-null   object\n",
      " 21  MensesScoreDayFive          1231 non-null   object\n",
      " 22  MensesScoreDaySix           603 non-null    object\n",
      " 23  MensesScoreDaySeven         224 non-null    object\n",
      " 24  MensesScoreDayEight         68 non-null     object\n",
      " 25  MensesScoreDayNine          26 non-null     object\n",
      " 26  MensesScoreDayTen           6 non-null      object\n",
      " 27  MensesScoreDay11            2 non-null      object\n",
      " 28  MensesScoreDay12            1 non-null      object\n",
      " 29  MensesScoreDay13            1 non-null      object\n",
      " 30  MensesScoreDay14            1 non-null      object\n",
      " 31  MensesScoreDay15            1 non-null      object\n",
      " 32  TotalMensesScore            1661 non-null   object\n",
      " 33  MeanBleedingIntensity       110 non-null    object\n",
      " 34  NumberofDaysofIntercourse   1664 non-null   object\n",
      " 35  IntercourseInFertileWindow  1664 non-null   object\n",
      " 36  UnusualBleeding             1645 non-null   object\n",
      " 37  PhasesBleeding              106 non-null    object\n",
      " 38  IntercourseDuringUnusBleed  82 non-null     object\n",
      " 39  Age                         142 non-null    object\n",
      " 40  AgeM                        142 non-null    object\n",
      " 41  Maristatus                  142 non-null    object\n",
      " 42  MaristatusM                 142 non-null    object\n",
      " 43  Yearsmarried                131 non-null    object\n",
      " 44  Wedding                     10 non-null     object\n",
      " 45  Religion                    142 non-null    object\n",
      " 46  ReligionM                   142 non-null    object\n",
      " 47  Ethnicity                   141 non-null    object\n",
      " 48  EthnicityM                  142 non-null    object\n",
      " 49  Schoolyears                 135 non-null    object\n",
      " 50  SchoolyearsM                134 non-null    object\n",
      " 51  OccupationM                 141 non-null    object\n",
      " 52  IncomeM                     139 non-null    object\n",
      " 53  Height                      133 non-null    object\n",
      " 54  Weight                      134 non-null    object\n",
      " 55  Reprocate                   142 non-null    object\n",
      " 56  Numberpreg                  142 non-null    object\n",
      " 57  Livingkids                  142 non-null    object\n",
      " 58  Miscarriages                139 non-null    object\n",
      " 59  Abortions                   139 non-null    object\n",
      " 60  Medvits                     142 non-null    object\n",
      " 61  Medvitexplain               106 non-null    object\n",
      " 62  Gynosurgeries               26 non-null     object\n",
      " 63  LivingkidsM                 80 non-null     object\n",
      " 64  Boys                        47 non-null     object\n",
      " 65  Girls                       43 non-null     object\n",
      " 66  MedvitsM                    139 non-null    object\n",
      " 67  MedvitexplainM              60 non-null     object\n",
      " 68  Urosurgeries                3 non-null      object\n",
      " 69  Breastfeeding               142 non-null    object\n",
      " 70  Method                      142 non-null    object\n",
      " 71  Prevmethod                  30 non-null     object\n",
      " 72  Methoddate                  32 non-null     object\n",
      " 73  Whychart                    142 non-null    object\n",
      " 74  Nextpreg                    142 non-null    object\n",
      " 75  NextpregM                   141 non-null    object\n",
      " 76  Spousesame                  142 non-null    object\n",
      " 77  SpousesameM                 142 non-null    object\n",
      " 78  Timeattemptpreg             142 non-null    object\n",
      " 79  BMI                         131 non-null    object\n",
      "dtypes: int64(5), object(75)\n",
      "memory usage: 1.0+ MB\n",
      "None\n"
     ]
    }
   ],
   "source": [
    "# Get basic information about the dataset\n",
    "print(df.info())"
   ]
  },
  {
   "cell_type": "code",
   "execution_count": 56,
   "metadata": {},
   "outputs": [
    {
     "name": "stdout",
     "output_type": "stream",
     "text": [
      "       CycleNumber        Group  CycleWithPeakorNot  ReproductiveCategory  \\\n",
      "count  1665.000000  1665.000000         1665.000000           1665.000000   \n",
      "mean      8.040841     0.382583            0.912312              0.055255   \n",
      "std       6.593686     0.486164            0.282925              0.479706   \n",
      "min       1.000000     0.000000            0.000000              0.000000   \n",
      "25%       3.000000     0.000000            1.000000              0.000000   \n",
      "50%       7.000000     0.000000            1.000000              0.000000   \n",
      "75%      11.000000     1.000000            1.000000              0.000000   \n",
      "max      45.000000     1.000000            1.000000              9.000000   \n",
      "\n",
      "       LengthofCycle  \n",
      "count    1665.000000  \n",
      "mean       29.299099  \n",
      "std         3.887932  \n",
      "min        18.000000  \n",
      "25%        27.000000  \n",
      "50%        29.000000  \n",
      "75%        31.000000  \n",
      "max        54.000000  \n"
     ]
    }
   ],
   "source": [
    "# Summary statistics\n",
    "print(df.describe())"
   ]
  },
  {
   "cell_type": "markdown",
   "metadata": {},
   "source": [
    "# Handling Duplicates"
   ]
  },
  {
   "cell_type": "code",
   "execution_count": 42,
   "metadata": {},
   "outputs": [],
   "source": [
    "# Check for duplicates\n",
    "df.duplicated().sum()\n",
    "df.drop_duplicates(inplace=True)"
   ]
  },
  {
   "cell_type": "markdown",
   "metadata": {},
   "source": [
    "# Handling missing values"
   ]
  },
  {
   "cell_type": "code",
   "execution_count": 55,
   "metadata": {},
   "outputs": [
    {
     "name": "stdout",
     "output_type": "stream",
     "text": [
      "ClientID                   0\n",
      "CycleNumber                0\n",
      "Group                      0\n",
      "CycleWithPeakorNot         0\n",
      "ReproductiveCategory       0\n",
      "                        ... \n",
      "NextpregM               1524\n",
      "Spousesame              1523\n",
      "SpousesameM             1523\n",
      "Timeattemptpreg         1523\n",
      "BMI                     1534\n",
      "Length: 80, dtype: int64\n"
     ]
    }
   ],
   "source": [
    "#replace empty cells with Nan\n",
    "df.replace(' ', np.nan, inplace=True)\n",
    "missing_count  = df.isnull().sum()\n",
    "print(missing_count)"
   ]
  },
  {
   "cell_type": "markdown",
   "metadata": {},
   "source": [
    "# Replacing missing values(Nan) with the mode in identified columns"
   ]
  },
  {
   "cell_type": "code",
   "execution_count": 44,
   "metadata": {},
   "outputs": [],
   "source": [
    "# Replacing missing values(Nan) in EstimatedDayofOvulation with the mode \n",
    "mode_EstimatedDayofOvulation = df['EstimatedDayofOvulation'].mode()[0]\n",
    "df['EstimatedDayofOvulation'].fillna(mode_EstimatedDayofOvulation, inplace=True)\n",
    "\n",
    "# Replacing missing values(Nan) in LengthofLutealPhase with the mode \n",
    "mode_LengthofLutealPhase = df['LengthofLutealPhase'].mode()[0]\n",
    "df['LengthofLutealPhase'].fillna(mode_LengthofLutealPhase, inplace=True)\n",
    "\n",
    "# Replacing missing values(Nan) in LengthofCycle with the mode \n",
    "mode_LengthofCycle = df['LengthofCycle'].mode()[0]\n",
    "df['LengthofCycle'].fillna(mode_LengthofCycle, inplace=True)"
   ]
  },
  {
   "cell_type": "markdown",
   "metadata": {},
   "source": [
    "# Data type conversion"
   ]
  },
  {
   "cell_type": "code",
   "execution_count": 45,
   "metadata": {},
   "outputs": [],
   "source": [
    "# Convert the column to float\n",
    "df['EstimatedDayofOvulation'] = df['EstimatedDayofOvulation'].astype(float)\n",
    "df['LengthofLutealPhase'] = df['LengthofLutealPhase'].astype(float)\n",
    "df['LengthofCycle'] = df['LengthofCycle'].astype(float)"
   ]
  },
  {
   "cell_type": "code",
   "execution_count": 41,
   "metadata": {},
   "outputs": [
    {
     "name": "stdout",
     "output_type": "stream",
     "text": [
      "14.0 13.0 28.0\n"
     ]
    }
   ],
   "source": [
    "print(mode_EstimatedDayofOvulation, mode_LengthofLutealPhase, mode_LengthofCycle)"
   ]
  },
  {
   "cell_type": "markdown",
   "metadata": {},
   "source": [
    "# Renaming Columns"
   ]
  },
  {
   "cell_type": "code",
   "execution_count": null,
   "metadata": {},
   "outputs": [],
   "source": [
    "# Rename columns in under MensesScoreDays for consistency and easy readability\n",
    "df.rename(columns={\n",
    "    'MensesScoreDayOne': 'MensesScoreDay1',\n",
    "    'MensesScoreDayTwo': 'MensesScoreDay2',\n",
    "    'MensesScoreDayThree': 'MensesScoreDay3',\n",
    "    'MensesScoreDayFour': 'MensesScoreDay4',\n",
    "    'MensesScoreDayFive' : 'MensesScoreDay5',\n",
    "    'MensesScoreDaySix' : 'MensesScoreDay6',\n",
    "    'MensesScoreDaySeven' : 'MensesScoreDay7',\n",
    "    'MensesScoreDayEight' : 'MensesScoreDay8',\n",
    "    'MensesScoreDayNine' : 'MensesScoreDay9',\n",
    "    'MensesScoreDayTen' : 'MensesScoreDay10'\n",
    "}, inplace= True)"
   ]
  },
  {
   "cell_type": "code",
   "execution_count": 53,
   "metadata": {},
   "outputs": [],
   "source": [
    "df.to_csv('cleaned_menstrual_cycle_data.csv', index=False)"
   ]
  }
 ],
 "metadata": {
  "kernelspec": {
   "display_name": "MyEnv",
   "language": "python",
   "name": "python3"
  },
  "language_info": {
   "codemirror_mode": {
    "name": "ipython",
    "version": 3
   },
   "file_extension": ".py",
   "mimetype": "text/x-python",
   "name": "python",
   "nbconvert_exporter": "python",
   "pygments_lexer": "ipython3",
   "version": "3.11.5"
  },
  "orig_nbformat": 4
 },
 "nbformat": 4,
 "nbformat_minor": 2
}
